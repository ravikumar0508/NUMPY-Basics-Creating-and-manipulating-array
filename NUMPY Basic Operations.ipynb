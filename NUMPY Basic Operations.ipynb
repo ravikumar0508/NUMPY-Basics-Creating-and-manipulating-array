{
 "cells": [
  {
   "cell_type": "markdown",
   "id": "d8bc3d2f",
   "metadata": {},
   "source": [
    "# NUMPY\n",
    "\n",
    "#supports creation and manipulation of ndimensional homogenious arrays\n",
    "\n",
    "homogenous arrays ==set of values of similar datatupe represendation\n",
    "\n",
    "every array creation in numpy array is a class of nd array class object\n",
    "\n",
    "\n",
    "homogenous arrays == set of values of multi fatatype represendation\n",
    "\n",
    "\n",
    "\n",
    "why not list??\n",
    "its a hetrogeneous methods\n",
    "\n",
    "its not capable of handle large data set\n",
    "\n",
    "numpy/standard python seq\n",
    "1.numpy arrats have a fixed size at creation,unlike python list \n",
    "\n",
    "2.when changing array it will manipulate the originol data type\n",
    "\n",
    "3.object -a classs instantce\n",
    "\n",
    "4.numpy is used most in math and sci \n",
    "\n",
    "5.nd array will operate over elemnt by element\n",
    "\n",
    "6.fullu supports object oriented approach\n",
    "\n",
    "7.numpy dimensions are called axes\n",
    "\n",
    "\n",
    "\n",
    "\n",
    "\n",
    "\n",
    "\n",
    "\n"
   ]
  },
  {
   "cell_type": "code",
   "execution_count": 6,
   "id": "b10f3a96",
   "metadata": {},
   "outputs": [
    {
     "data": {
      "text/plain": [
       "array([[1, 2, 3, 4]])"
      ]
     },
     "execution_count": 6,
     "metadata": {},
     "output_type": "execute_result"
    }
   ],
   "source": [
    "#to call numpy library\n",
    "\n",
    "\n",
    "\n",
    "import numpy as np\n",
    "\n",
    "dir(np)\n",
    "a =np.array([1,2,3,4])\n",
    "a\n",
    "a1 =np.array([1,2,3,4],ndmin =2)\n",
    "a1"
   ]
  },
  {
   "cell_type": "code",
   "execution_count": 8,
   "id": "ce5222da",
   "metadata": {},
   "outputs": [
    {
     "data": {
      "text/plain": [
       "array([1.+0.j, 2.+0.j, 3.+0.j, 4.+0.j])"
      ]
     },
     "execution_count": 8,
     "metadata": {},
     "output_type": "execute_result"
    }
   ],
   "source": [
    "#Dtype =data type\n",
    "\n",
    "a3 =np.array([1,2,3,4],dtype =complex)\n",
    "a3"
   ]
  },
  {
   "cell_type": "markdown",
   "id": "6fb3c1c8",
   "metadata": {},
   "source": [
    "# NUMPY DATA TYPE"
   ]
  },
  {
   "cell_type": "code",
   "execution_count": 10,
   "id": "86eb7839",
   "metadata": {},
   "outputs": [
    {
     "data": {
      "text/plain": [
       "dtype('int32')"
      ]
     },
     "execution_count": 10,
     "metadata": {},
     "output_type": "execute_result"
    }
   ],
   "source": [
    "b =np.dtype(np.int32)\n",
    "b"
   ]
  },
  {
   "cell_type": "code",
   "execution_count": 12,
   "id": "1e818f90",
   "metadata": {},
   "outputs": [
    {
     "data": {
      "text/plain": [
       "dtype('int64')"
      ]
     },
     "execution_count": 12,
     "metadata": {},
     "output_type": "execute_result"
    }
   ],
   "source": [
    "b =np.dtype(np.int64)\n",
    "b"
   ]
  },
  {
   "cell_type": "markdown",
   "id": "6cb1a5be",
   "metadata": {},
   "source": [
    "# STRUCTURED DATA TYPES"
   ]
  },
  {
   "cell_type": "code",
   "execution_count": 26,
   "id": "a734817b",
   "metadata": {},
   "outputs": [
    {
     "data": {
      "text/plain": [
       "array([ 1,  2,  3,  4,  5,  6,  7,  8,  9, 10, 11, 12, 13, 14, 15, 16, 17,\n",
       "       18, 19])"
      ]
     },
     "execution_count": 26,
     "metadata": {},
     "output_type": "execute_result"
    }
   ],
   "source": [
    "#BASCI ARRAY CREATION\n",
    "\n",
    "#format  = np.range(start,end,step,dtype)\n",
    "\n",
    "\n",
    "a =np.arange(1,20,1,int)\n",
    "a"
   ]
  },
  {
   "cell_type": "code",
   "execution_count": 27,
   "id": "06d30359",
   "metadata": {},
   "outputs": [
    {
     "data": {
      "text/plain": [
       "array([ 1,  5,  9, 13, 17])"
      ]
     },
     "execution_count": 27,
     "metadata": {},
     "output_type": "execute_result"
    }
   ],
   "source": [
    "#to change the step value\n",
    "\n",
    "a =np.arange(1,20,4,int)\n",
    "a"
   ]
  },
  {
   "cell_type": "code",
   "execution_count": 37,
   "id": "6aa591ee",
   "metadata": {},
   "outputs": [
    {
     "name": "stdout",
     "output_type": "stream",
     "text": [
      "[ 1  2  3  4  5  6  7  8  9 10 11 12 13 14 15 16 17 18 19 20]\n",
      "[[ 1  2  3  4  5]\n",
      " [ 6  7  8  9 10]\n",
      " [11 12 13 14 15]\n",
      " [16 17 18 19 20]]\n",
      "20\n"
     ]
    }
   ],
   "source": [
    "#MATRIX METHOD -shape & ndim\n",
    "\n",
    "#.shape(row,coloumns)\n",
    "\n",
    "#size-gives the size of the elements\n",
    "\n",
    "\n",
    "#shape - it will take one or more integers into tuple form\n",
    "\n",
    "\n",
    "a =np.arange(1,21,)\n",
    "print(a)\n",
    "a.shape =(4,5)\n",
    "print(a)\n",
    "print(a.size)"
   ]
  },
  {
   "cell_type": "markdown",
   "id": "7b102301",
   "metadata": {},
   "source": [
    "# ARAAY CREAATION USING np.array\n",
    "\n",
    "1.allows list of values\n",
    "\n",
    "\n",
    "\n"
   ]
  },
  {
   "cell_type": "code",
   "execution_count": 42,
   "id": "fa0e44b9",
   "metadata": {},
   "outputs": [
    {
     "name": "stdout",
     "output_type": "stream",
     "text": [
      "[1 2 3 4 5]\n",
      "[1.+0.j 2.+0.j 3.+0.j 4.+0.j 5.+0.j]\n"
     ]
    }
   ],
   "source": [
    "a = np.array([1,2,3,4,5])\n",
    "print(a)\n",
    "\n",
    "#TOCHANGE THE DTYPE\n",
    "\n",
    "a = np.array([1,2,3,4,5],dtype =complex)\n",
    "print(a)\n"
   ]
  },
  {
   "cell_type": "code",
   "execution_count": 47,
   "id": "d7d09c50",
   "metadata": {},
   "outputs": [
    {
     "name": "stdout",
     "output_type": "stream",
     "text": [
      "[[1 2 3]\n",
      " [4 5 6]\n",
      " [7 8 9]]\n"
     ]
    }
   ],
   "source": [
    "#doble dimension array -matrix is a doble dimension array\n",
    "\n",
    "a = np.array([[1,2,3],[4,5,6],[7,8,9]])\n",
    "print(a)\n",
    "\n",
    "\n",
    "\n"
   ]
  },
  {
   "cell_type": "code",
   "execution_count": 48,
   "id": "74c6f29e",
   "metadata": {},
   "outputs": [
    {
     "name": "stdout",
     "output_type": "stream",
     "text": [
      "[[1 2 3]\n",
      " [4 5 6]\n",
      " [7 8 9]]\n"
     ]
    }
   ],
   "source": [
    "#reshape-function used to convert single dimension array to double dimension array\n",
    "\n",
    "a = np.array([1,2,3,4,5,6,7,8,9]).reshape(3,3)\n",
    "print(a)"
   ]
  },
  {
   "cell_type": "markdown",
   "id": "6db8b277",
   "metadata": {},
   "source": [
    "# Array creation using ZEROS \n",
    "\n",
    "\n",
    "\n",
    "\n",
    "it will take only singe values as a input\n",
    "\n",
    "single list or single tuple\n",
    "\n"
   ]
  },
  {
   "cell_type": "code",
   "execution_count": 50,
   "id": "c00ea8f0",
   "metadata": {},
   "outputs": [
    {
     "data": {
      "text/plain": [
       "array([0., 0., 0.])"
      ]
     },
     "execution_count": 50,
     "metadata": {},
     "output_type": "execute_result"
    }
   ],
   "source": [
    "np.zeros(3)"
   ]
  },
  {
   "cell_type": "code",
   "execution_count": 53,
   "id": "3f5574f7",
   "metadata": {},
   "outputs": [
    {
     "data": {
      "text/plain": [
       "array([[0., 0., 0.],\n",
       "       [0., 0., 0.],\n",
       "       [0., 0., 0.]])"
      ]
     },
     "execution_count": 53,
     "metadata": {},
     "output_type": "execute_result"
    }
   ],
   "source": [
    "np.zeros((3,3))"
   ]
  },
  {
   "cell_type": "markdown",
   "id": "d3ab9df8",
   "metadata": {},
   "source": [
    "# Arrays creation using ONES"
   ]
  },
  {
   "cell_type": "code",
   "execution_count": 54,
   "id": "1de82717",
   "metadata": {},
   "outputs": [
    {
     "data": {
      "text/plain": [
       "array([[1., 1., 1.],\n",
       "       [1., 1., 1.],\n",
       "       [1., 1., 1.]])"
      ]
     },
     "execution_count": 54,
     "metadata": {},
     "output_type": "execute_result"
    }
   ],
   "source": [
    "np.ones((3,3))"
   ]
  },
  {
   "cell_type": "markdown",
   "id": "f11ed00a",
   "metadata": {},
   "source": [
    "# arrays cration using random values()\n",
    "\n",
    "\n",
    "\n",
    "empty-function used to create random numbers"
   ]
  },
  {
   "cell_type": "code",
   "execution_count": 62,
   "id": "84a6b08a",
   "metadata": {},
   "outputs": [
    {
     "data": {
      "text/plain": [
       "array([[0., 0.],\n",
       "       [0., 0.]])"
      ]
     },
     "execution_count": 62,
     "metadata": {},
     "output_type": "execute_result"
    }
   ],
   "source": [
    "np.empty((2,2))"
   ]
  },
  {
   "cell_type": "markdown",
   "id": "0ea84f6b",
   "metadata": {},
   "source": [
    "# Copying an array into another\n",
    "1)  -  Using assignment operator\n",
    "2)  -  Shallow copy\n",
    "3)  -  Deep copy\n"
   ]
  },
  {
   "cell_type": "markdown",
   "id": "c73d9274",
   "metadata": {},
   "source": [
    "# Using assignment operator\n",
    "\n",
    "it creates a refernce of originol copy\n",
    "\n",
    "symbol is =\n",
    "\n",
    "it doesnt create another copy of the array in the memory\n"
   ]
  },
  {
   "cell_type": "code",
   "execution_count": 66,
   "id": "20eb69bd",
   "metadata": {},
   "outputs": [
    {
     "name": "stdout",
     "output_type": "stream",
     "text": [
      "2352062692688\n",
      "2352062692688\n",
      "[1 2 7 4 5]\n",
      "[1 2 7 4 5]\n"
     ]
    }
   ],
   "source": [
    "a = np.array([1,2,3,4,5])\n",
    "print(id(a))\n",
    "b = a\n",
    "print(id(b))\n",
    "b[2] =7\n",
    "print(b)\n",
    "print(a)"
   ]
  },
  {
   "cell_type": "markdown",
   "id": "292b46d5",
   "metadata": {},
   "source": [
    "# USING SHALLOW COPY"
   ]
  },
  {
   "cell_type": "code",
   "execution_count": 67,
   "id": "0bf01cdc",
   "metadata": {},
   "outputs": [
    {
     "name": "stdout",
     "output_type": "stream",
     "text": [
      "2352061073712\n",
      "[1 2 3 4 5]\n",
      "<built-in method view of numpy.ndarray object at 0x00000223A1C3C930>\n",
      "2352016567808\n"
     ]
    }
   ],
   "source": [
    "#view -function used for this \n",
    "\n",
    "a = np.array([1,2,3,4,5])\n",
    "print(id(a))\n",
    "print(a)\n",
    "b = a.view\n",
    "print(b)\n",
    "print(id(b))\n",
    "\n"
   ]
  },
  {
   "cell_type": "markdown",
   "id": "ae7597de",
   "metadata": {},
   "source": [
    "# #Using DEEP Copy"
   ]
  },
  {
   "cell_type": "code",
   "execution_count": 68,
   "id": "1a3ad201",
   "metadata": {},
   "outputs": [
    {
     "name": "stdout",
     "output_type": "stream",
     "text": [
      "2352062691056\n",
      "[1 2 3 4 5]\n",
      "<built-in method copy of numpy.ndarray object at 0x00000223A1DC76F0>\n",
      "2352067695376\n"
     ]
    }
   ],
   "source": [
    "a = np.array([1,2,3,4,5])\n",
    "print(id(a))\n",
    "print(a)\n",
    "b = a.copy\n",
    "print(b)\n",
    "print(id(b))\n"
   ]
  },
  {
   "cell_type": "markdown",
   "id": "f1229138",
   "metadata": {},
   "source": [
    "# ACCESSING array and to find the position of a element\n",
    "\n",
    "#where -role searching\n",
    "\n",
    "\n",
    "syntax: numpy.where(array_name==element_to_search)\n",
    "\n",
    "\n",
    "\n"
   ]
  },
  {
   "cell_type": "code",
   "execution_count": 69,
   "id": "0ab0ce60",
   "metadata": {},
   "outputs": [
    {
     "data": {
      "text/plain": [
       "(array([2], dtype=int64),)"
      ]
     },
     "execution_count": 69,
     "metadata": {},
     "output_type": "execute_result"
    }
   ],
   "source": [
    "a = np.array([1,2,3,4,5])\n",
    "np.where(a==3)"
   ]
  },
  {
   "cell_type": "code",
   "execution_count": 70,
   "id": "974b0521",
   "metadata": {},
   "outputs": [
    {
     "data": {
      "text/plain": [
       "(array([0, 2, 4], dtype=int64),)"
      ]
     },
     "execution_count": 70,
     "metadata": {},
     "output_type": "execute_result"
    }
   ],
   "source": [
    "#only for odd elements\n",
    "a = np.array([1,2,3,4,5])\n",
    "np.where(a%2==1)"
   ]
  },
  {
   "cell_type": "code",
   "execution_count": 71,
   "id": "31cdcd6c",
   "metadata": {},
   "outputs": [
    {
     "data": {
      "text/plain": [
       "3"
      ]
     },
     "execution_count": 71,
     "metadata": {},
     "output_type": "execute_result"
    }
   ],
   "source": [
    "#Binary search\n",
    "\n",
    "#searchsorted-used for binry search\n",
    "\n",
    "\n",
    "\n",
    "\n",
    "\n",
    "a = np.array([1,2,3,4,5])\n",
    "np.searchsorted(a,4)\n"
   ]
  },
  {
   "cell_type": "markdown",
   "id": "c8ff3036",
   "metadata": {},
   "source": [
    "# MANIPULATE the arrays created using numpy\n",
    "\n",
    "\n",
    "both arrrays must be same shape\n",
    "\n"
   ]
  },
  {
   "cell_type": "code",
   "execution_count": 75,
   "id": "5192c7df",
   "metadata": {},
   "outputs": [
    {
     "name": "stdout",
     "output_type": "stream",
     "text": [
      "[[1 2]\n",
      " [3 4]]\n",
      "[[6 7]\n",
      " [8 9]]\n",
      "[[ 7  9]\n",
      " [11 13]]\n"
     ]
    }
   ],
   "source": [
    "#ADDDITIN\n",
    "\n",
    "\n",
    "c =np.array([1,2,3,4]).reshape(2,2)\n",
    "d =np.array([6,7,8,9]).reshape(2,2)\n",
    "print(c)\n",
    "print(d)\n",
    "e =c + d\n",
    "print(e)"
   ]
  },
  {
   "cell_type": "code",
   "execution_count": 76,
   "id": "fdd252f0",
   "metadata": {},
   "outputs": [
    {
     "name": "stdout",
     "output_type": "stream",
     "text": [
      "[[1 2]\n",
      " [3 4]]\n",
      "[[6 7]\n",
      " [8 9]]\n",
      "[[-5 -5]\n",
      " [-5 -5]]\n"
     ]
    }
   ],
   "source": [
    "#SUBRACTION\n",
    "\n",
    "\n",
    "c =np.array([1,2,3,4]).reshape(2,2)\n",
    "d =np.array([6,7,8,9]).reshape(2,2)\n",
    "print(c)\n",
    "print(d)\n",
    "e =c - d\n",
    "print(e)\n"
   ]
  },
  {
   "cell_type": "code",
   "execution_count": 81,
   "id": "7400c590",
   "metadata": {},
   "outputs": [
    {
     "name": "stdout",
     "output_type": "stream",
     "text": [
      "[[1 2]\n",
      " [3 4]]\n",
      "[[6 7]\n",
      " [8 9]]\n",
      "[[ 6 14]\n",
      " [24 36]]\n",
      "[[22 25]\n",
      " [50 57]]\n",
      "[[22 25]\n",
      " [50 57]]\n"
     ]
    }
   ],
   "source": [
    "#MULTIPLICATION\n",
    "\n",
    "c =np.array([1,2,3,4]).reshape(2,2)\n",
    "d =np.array([6,7,8,9]).reshape(2,2)\n",
    "print(c)\n",
    "print(d)\n",
    "e =c * d\n",
    "print(e)\n",
    "\n",
    "\n",
    "#BUT as per matrix multiplication this ans is wrong\n",
    "\n",
    "c =np.array([1,2,3,4]).reshape(2,2)\n",
    "d =np.array([6,7,8,9]).reshape(2,2)\n",
    "e =c @ d\n",
    "print(e)\n",
    "\n",
    "\n",
    "#@-operator  .product multiplication or we can use dot function\n",
    "c =np.array([1,2,3,4]).reshape(2,2)\n",
    "d =np.array([6,7,8,9]).reshape(2,2)\n",
    "e =c.dot(d)\n",
    "print(e)\n",
    "\n"
   ]
  },
  {
   "cell_type": "code",
   "execution_count": 83,
   "id": "d6e1893f",
   "metadata": {},
   "outputs": [
    {
     "name": "stdout",
     "output_type": "stream",
     "text": [
      "[[1 2]\n",
      " [3 4]]\n",
      "[[6 7]\n",
      " [8 9]]\n"
     ]
    }
   ],
   "source": [
    "#cmpound assignment operators\n",
    "+= add every elemenr\n",
    "\n",
    "*= mulitiply\n",
    "\n",
    "\n",
    "c =np.array([1,2,3,4]).reshape(2,2)\n",
    "print(c)\n",
    "c+=5\n",
    "print(c)"
   ]
  },
  {
   "cell_type": "code",
   "execution_count": 84,
   "id": "80e99954",
   "metadata": {},
   "outputs": [
    {
     "name": "stdout",
     "output_type": "stream",
     "text": [
      "[[1 2]\n",
      " [3 4]]\n",
      "[[ 7  9]\n",
      " [11 13]]\n"
     ]
    }
   ],
   "source": [
    "#we can use that for multipliers also\n",
    "\n",
    "c =np.array([1,2,3,4]).reshape(2,2)\n",
    "print(c)\n",
    "d =np.array([6,7,8,9]).reshape(2,2)\n",
    "c+=d\n",
    "print(c)"
   ]
  },
  {
   "cell_type": "code",
   "execution_count": null,
   "id": "a5bbcdb6",
   "metadata": {},
   "outputs": [],
   "source": []
  },
  {
   "cell_type": "code",
   "execution_count": null,
   "id": "6ed55775",
   "metadata": {},
   "outputs": [],
   "source": []
  },
  {
   "cell_type": "code",
   "execution_count": null,
   "id": "c0aca796",
   "metadata": {},
   "outputs": [],
   "source": []
  },
  {
   "cell_type": "code",
   "execution_count": null,
   "id": "3f45e802",
   "metadata": {},
   "outputs": [],
   "source": []
  },
  {
   "cell_type": "code",
   "execution_count": null,
   "id": "0573dec2",
   "metadata": {},
   "outputs": [],
   "source": []
  }
 ],
 "metadata": {
  "kernelspec": {
   "display_name": "Python 3",
   "language": "python",
   "name": "python3"
  },
  "language_info": {
   "codemirror_mode": {
    "name": "ipython",
    "version": 3
   },
   "file_extension": ".py",
   "mimetype": "text/x-python",
   "name": "python",
   "nbconvert_exporter": "python",
   "pygments_lexer": "ipython3",
   "version": "3.8.8"
  }
 },
 "nbformat": 4,
 "nbformat_minor": 5
}
